{
  "nbformat": 4,
  "nbformat_minor": 0,
  "metadata": {
    "colab": {
      "name": "SimulationWork_EduardoBarbosaTainaLima.ipynb",
      "version": "0.3.2",
      "provenance": [],
      "collapsed_sections": []
    },
    "kernelspec": {
      "name": "python3",
      "display_name": "Python 3"
    }
  },
  "cells": [
    {
      "cell_type": "markdown",
      "metadata": {
        "id": "5pu5-Mx35ZLA",
        "colab_type": "text"
      },
      "source": [
        "#Trabalho de Simulação\n",
        "<br>\n",
        "Grupo: Eduardo da Silva Barbosa (116150432) e Tainá da Silva Lima(116165607)<br>\n",
        "Disciplina: Estatística e Probabilidade<br>\n",
        "Professor: Nei Rocha"
      ]
    },
    {
      "cell_type": "markdown",
      "metadata": {
        "id": "wuuBzVvT5PBu",
        "colab_type": "text"
      },
      "source": [
        "## Questão 1\n"
      ]
    },
    {
      "cell_type": "code",
      "metadata": {
        "id": "Fm_OZSVelVSS",
        "colab_type": "code",
        "outputId": "6aba7d37-55a5-469d-f5cf-53d35c8e112a",
        "colab": {
          "base_uri": "https://localhost:8080/",
          "height": 563
        }
      },
      "source": [
        "import numpy as np\n",
        "import random\n",
        "import pandas as pd\n",
        "import matplotlib.pyplot as plt\n",
        "\n",
        "nOfSimu = 5000 #Número de simulações\n",
        "frequencyX = np.zeros(12) #Armazenará a quantidade de ocorrência de cada X = {2,3,...,11}. OBS: as posições 0 e 1 não serão utilizadas.\n",
        "imgX = np.array([2,3,4,5,6,7,8,9,10,11]) #imagem de X\n",
        "\n",
        "def experiment(): #É equivalente ao experimento de contar a quantidade de bolas retiradas da urna até que saía uma bola já retirada. Essa função retornará a quantidade de bolas retiradas até que isso ocorra.\n",
        "  balls = np.zeros(10)\n",
        "  steps = 0\n",
        "  for i in range(0, 11):\n",
        "    steps+=1\n",
        "    ball = random.randint(0, 9)\n",
        "    balls[ball]+=1\n",
        "    if(balls[ball] == 2):\n",
        "      break\n",
        "  return steps\n",
        "\n",
        "def probFunction(frequencyX, nOfSimu): #Retorna a função de probabilidade. OBS: as posições 0 e 1 não são utilizadas. \n",
        "    distributionX = np.zeros(12)\n",
        "    for i in range(2,12):\n",
        "      distributionX[i] = frequencyX[i]/nOfSimu\n",
        "    return distributionX\n",
        "\n",
        "def expectation(X, P): # Retorna a esperança de X dada a função de probabilidade P\n",
        "    sum = 0\n",
        "    for xi,pxi in zip(X,P):\n",
        "        sum += xi*pxi\n",
        "    return sum\n",
        "\n",
        "def variance(X, P): # Retorna a variância de X dada a função de probabilidade P\n",
        "    sum = 0\n",
        "    for xi,pxi in zip(X,P):\n",
        "            sum += xi*xi*pxi\n",
        "    \n",
        "    return sum-pow(expectation(X, P),2)\n",
        "\n",
        "#main\n",
        "\n",
        "for i in range(nOfSimu):\n",
        "    result = experiment()\n",
        "    frequencyX[result] += 1\n",
        "\n",
        "distributionX = probFunction(frequencyX[:], nOfSimu)\n",
        "exp = expectation(imgX, distributionX[2:]) \n",
        "var = variance(imgX, distributionX[2:])\n",
        "\n",
        "df = pd.DataFrame(zip(imgX,distributionX[2:]), columns = ['x' , 'P(X=x)'])\n",
        "\n",
        "#Imprimir as informações\n",
        "plt.bar(imgX,distributionX[2:])\n",
        "plt.ylabel('Probability')\n",
        "plt.xlabel('X')\n",
        "plt.xticks(imgX)\n",
        "plt.title('Probability function')\n",
        "plt.show()\n",
        "\n",
        "print(df)\n",
        "print(\"\\n\")\n",
        "print(\"A esperança da variável X é:\" + str(exp))\n",
        "print(\"A variância da variável X é:\" + str(var))\n"
      ],
      "execution_count": 0,
      "outputs": [
        {
          "output_type": "display_data",
          "data": {
            "image/png": "[encoded data removed]",
            "text/plain": [
              "<Figure size 432x288 with 1 Axes>"
            ]
          },
          "metadata": {
            "tags": []
          }
        },
        {
          "output_type": "stream",
          "text": [
            "    x  P(X=x)\n",
            "0   2  0.0988\n",
            "1   3  0.1730\n",
            "2   4  0.2134\n",
            "3   5  0.2086\n",
            "4   6  0.1526\n",
            "5   7  0.0940\n",
            "6   8  0.0418\n",
            "7   9  0.0142\n",
            "8  10  0.0034\n",
            "9  11  0.0002\n",
            "\n",
            "\n",
            "A esperança da variável X é:4.685199999999999\n",
            "A variância da variável X é:2.9197009600000143\n"
          ],
          "name": "stdout"
        }
      ]
    },
    {
      "cell_type": "markdown",
      "metadata": {
        "id": "VJQImMYDKKtk",
        "colab_type": "text"
      },
      "source": [
        "##Questão 2"
      ]
    },
    {
      "cell_type": "markdown",
      "metadata": {
        "id": "fTZEKhEqcoeb",
        "colab_type": "text"
      },
      "source": [
        "Dado a variável aleatória X apresentada pela questão, onde sua função de densidade é:\n",
        "\n",
        "<center>$f(x) = \\left\\{\\begin{matrix}\n",
        "\\frac{10}{x^{2}} &, x > 10\\\\ \n",
        " 0 &, x \\leq 10 \n",
        "\\end{matrix}\\right.$</center>\n",
        "\n",
        "A partir disso, podemos calcular a sua função de densidade acumulada, dada por:\n",
        "\n",
        "<center>$F_{x}(x) = \\int_{-\\infty}^{x} f(t)dt = \\int_{10}^{x} \\frac{10}{t^{2}}dt ={\\left [ -\\frac{10}{t} \\right ]_{10}}^{x} $</center> <br><br>\n",
        "<center>$F_{x}(x) = 1 - \\frac{10}{x} , x\\geq 10$</center>\n",
        "\n",
        "Utilizando isso, podemos considerar $U = F(X)$, onde por conta de U ser a função de distribuição acumulada de $X$, $U$ tem distribuição uniforme em (0,1). Ou seja:<br>\n",
        "<center>$U= 1 - \\frac{10}{X}$ <br></center>\n",
        "Portanto:<br>\n",
        "<center>$X = \\frac{10}{1-U}$</center>\n",
        "\n",
        "Tal definição será utilizada no código abaixo para simular $X$, bem como cálcular sua esperança. "
      ]
    },
    {
      "cell_type": "code",
      "metadata": {
        "id": "mxPfCL-GKJIC",
        "colab_type": "code",
        "outputId": "482ebae6-813d-431f-cbf5-597690be5bda",
        "colab": {
          "base_uri": "https://localhost:8080/",
          "height": 35
        }
      },
      "source": [
        "import numpy as np\n",
        "import random\n",
        "\n",
        "media = 0\n",
        "\n",
        "for i in range (0,1000):\n",
        "  x = 10/(1-np.random.random_sample()) # Simulação de X (X = 10/1-U)\n",
        "  media = media + x\n",
        "  \n",
        "print(\"A esperança de X é aproximadamente:\", media/1000)"
      ],
      "execution_count": 0,
      "outputs": [
        {
          "output_type": "stream",
          "text": [
            "A esperança de X é aproximadamente: 68.50505175406565\n"
          ],
          "name": "stdout"
        }
      ]
    },
    {
      "cell_type": "markdown",
      "metadata": {
        "id": "tlh-IBn6pG92",
        "colab_type": "text"
      },
      "source": [
        "Executando o código acima várias vezes, é possível verificar que a média resulta em valores relativamente distintos, de maneira que não esteja convergindo para nenhum valor. <br>\n",
        "Isso se dá porque ao calcular da esperança de maneira analítica, temos que esta tende ao infinito, tornando-a divergente. <br>\n",
        "<center>$E(X) = \\int_{-\\infty}^{\\infty} xf(x)dx = \\int_{10}^{\\infty} x\\frac{10}{x^{2}}dx$<br><br>\n",
        "$= \n",
        "10\\int_{10}^{\\infty} \\frac{1}{x}dx$<br> <br>\n",
        "$= 10{\\left [ lnx \\right ]_{10}}^{\\infty}$ <br><br>\n",
        "$= 10\\left [lim_{x\\rightarrow \\infty}lnx - ln10  \\right ] = \\infty$</center>\n",
        "\n"
      ]
    },
    {
      "cell_type": "markdown",
      "metadata": {
        "id": "W3iEsrEFzUaN",
        "colab_type": "text"
      },
      "source": [
        "##Questão 3"
      ]
    },
    {
      "cell_type": "code",
      "metadata": {
        "id": "PFrX324KzbOv",
        "colab_type": "code",
        "outputId": "7fc2fa70-bf2d-4f79-f6d3-4d5c4c2e1c6a",
        "colab": {
          "base_uri": "https://localhost:8080/",
          "height": 35
        }
      },
      "source": [
        "import numpy as np\n",
        "import random\n",
        "import math\n",
        "\n",
        "nOfPoints = 10000\n",
        "\n",
        "def f(x): #Representa o integrando \n",
        "  return (4*(x**2)*math.exp(-3*(x**2)))\n",
        "\n",
        "def generatePoints(n, lower, higher): #Gera n pontos aleatórios cujo o x está no intervalo enviado\n",
        "  points = []\n",
        "  \n",
        "  for i in range(n):\n",
        "    x = random.uniform(lower,higher)\n",
        "    point = [x, f(x)]\n",
        "    points.append(point)\n",
        "  \n",
        "  return points  \n",
        "  \n",
        "def monteCarlo(lowerL,higherL):#Calcula a integral através do método de Monte Carlo\n",
        "  points = generatePoints(nOfPoints, lowerL, higherL)\n",
        "  \n",
        "  sum = 0\n",
        "  for point in points:\n",
        "    sum += point[1]\n",
        "  \n",
        "  average = float(sum/nOfPoints) #Dado os pontos escolhidos, é feita a média de suas imagens por f (aproximação da esperança)\n",
        "  return (higherL - lowerL)*average #A aproximação da integral desejada é dada pela média*(tamanho do intervalo)\n",
        "\n",
        "\n",
        "print(\"O resultado da integral desejada é aproximadamente: \" + str(monteCarlo(-1.5,1.5)))\n",
        "   \n",
        "  "
      ],
      "execution_count": 0,
      "outputs": [
        {
          "output_type": "stream",
          "text": [
            "O resultado da integral desejada é aproximadamente: 0.675602554288599\n"
          ],
          "name": "stdout"
        }
      ]
    },
    {
      "cell_type": "markdown",
      "metadata": {
        "id": "_8AWPHhdcFgx",
        "colab_type": "text"
      },
      "source": [
        "O método de Monte Carlo permite que integrais definidas de funções que analiticamente não seriam possíveis de se encontrar um resultado, sejam resolvidas de uma maneira relativamente simples. <br>Basicamente o método calcula tais integrais utilizando a ideia da esperança, encontrada através de manipulações algébricas na integral. Outra maneira de se ver é através do cálculo do ponto médio de uma função, dado pela seguite equação:\n",
        "\n",
        "<center>$E = \\frac{1}{b-a}\\int_{a}^{b}f(x)dx $<br><br>\n",
        "$\\int_{a}^{b}f(x)dx = E(b-a) $</center><br>\n",
        "\n",
        "Para a resolução deste exercício, não foi feita a integral abaixo do integrando de $-\\infty$ a $\\infty$, e sim somente abaixo desses dois \"morros\" visíveis no gráfico, que é onde a maior parte da área desejada está. Como a função decresce rapidamente para 0 para  $x > 1.5 $ e $x < -1.5 $ (aproximadamente), a área abaixo de $f(x)$ nesses intervalos são muito pequenas. Portanto, o erro gerado será pequeno.<br>\n",
        "Sendo assim, a integral foi feita entre -1.5 e 1.5. \n",
        "Foi criado vários pontos dentro deste intervalo e calculado suas respectivas imagens, e, partir disso, a média foi encontrada e multiplicada pelo tamanho do intervalo dos limites de integração. <br>\n",
        "Executando várias vezes este algoritmo, chegamos a valores muito próximos, a maioria deles por volta de 0.68.\n",
        "\n",
        "\n",
        "\n"
      ]
    },
    {
      "cell_type": "code",
      "metadata": {
        "id": "xXSVkELp9Nq0",
        "colab_type": "code",
        "outputId": "aacd63c8-a5b1-4558-b9b7-2b603900a40d",
        "colab": {
          "base_uri": "https://localhost:8080/",
          "height": 281
        }
      },
      "source": [
        "import pylab\n",
        "import numpy as np\n",
        "\n",
        "#Código para plotar o gráfico dado na questão\n",
        "x = np.linspace(-2,2,100) \n",
        "y =  4*(x**2)*np.exp(-3*(x**2))\n",
        "\n",
        "\n",
        "pylab.plot(x,y) \n",
        "pylab.title('Gráfico da função f(x) =  4(x^2)e^(-3(x^2))')\n",
        "pylab.show()"
      ],
      "execution_count": 0,
      "outputs": [
        {
          "output_type": "display_data",
          "data": {
            "image/png": "[encoded data removed]",
            "text/plain": [
              "<Figure size 432x288 with 1 Axes>"
            ]
          },
          "metadata": {
            "tags": []
          }
        }
      ]
    },
    {
      "cell_type": "markdown",
      "metadata": {
        "id": "_GMVvhWWGC6O",
        "colab_type": "text"
      },
      "source": [
        "##Questão **4**"
      ]
    },
    {
      "cell_type": "code",
      "metadata": {
        "id": "k62BJGpAGF8J",
        "colab_type": "code",
        "outputId": "c14d7f38-dcaf-4117-9649-af991b8aafc8",
        "colab": {
          "base_uri": "https://localhost:8080/",
          "height": 1000
        }
      },
      "source": [
        "import numpy as np\n",
        "import pandas as pd\n",
        "import random\n",
        "import matplotlib.pyplot as plt\n",
        "\n",
        "def experiment(): #Representa o experimento de visitar todos os nós ao menos uma vez\n",
        "  node = np.zeros(6) #Cada posição representa um nó\n",
        "  node[0] = 1 #O nó 0 já começa como visitado\n",
        "  i = 0\n",
        "  cont = 0\n",
        "  while(0 in node):\n",
        "    cont+=1\n",
        "    if(random.randint(1,10) > 5):\n",
        "      node[(i+1)%6]+=1\n",
        "      i = (i+1)%6\n",
        "    else:\n",
        "      if(i == 0):\n",
        "        node[5]+=1\n",
        "        i = 5\n",
        "      else:\n",
        "        node[(i-1)%6]+=1\n",
        "        i=(i-1)%6\n",
        "  return cont\n",
        "\n",
        "def simulation(nOfSimu):\n",
        "    x = {} #O dicionário x guardará a imagem de x associada a quantidade de vezes que o mesmo ocorreu\n",
        "    for i in range(0,nOfSimu):\n",
        "        temp = experiment()\n",
        "        if(temp in x):\n",
        "            x[temp] = x[temp] + 1\n",
        "        else:\n",
        "            x[temp] = 1\n",
        "    return x\n",
        "\n",
        "def probFunction(x, nOfSimu): #Retorna a função de probabilidade. OBS: as posições 0 e 1 não são utilizadas. \n",
        "    for key in x.keys():\n",
        "        x[key] = x[key]/nOfSimu\n",
        "    \n",
        "    df = pd.DataFrame(zip(sorted(x.keys()),x.values()), columns = ['x = número de movimentos' , 'P(X=x)'])\n",
        "    print(df)\n",
        "    return x\n",
        "  \n",
        "def expectation(x): # Retorna a esperança de X\n",
        "    sum = 0\n",
        "    for key in x.keys():\n",
        "        sum = sum + key*x[key]\n",
        "    return sum\n",
        "    \n",
        "nOfSimu = 5000\n",
        "x = simulation(nOfSimu)\n",
        "x = probFunction(x, nOfSimu)\n",
        "exp = expectation(x)\n",
        "plt.bar(x.keys(),x.values())\n",
        "plt.ylabel('Probability')\n",
        "plt.xlabel('X')\n",
        "#plt.xticks(x.values())\n",
        "plt.title('Probability function')\n",
        "plt.show() \n",
        "print(\"Esperança: \", exp)\n"
      ],
      "execution_count": 0,
      "outputs": [
        {
          "output_type": "stream",
          "text": [
            "    x = número de movimentos  P(X=x)\n",
            "0                          5  0.0442\n",
            "1                          6  0.0082\n",
            "2                          7  0.0530\n",
            "3                          8  0.0504\n",
            "4                          9  0.0744\n",
            "5                         10  0.0250\n",
            "6                         11  0.0476\n",
            "7                         12  0.0592\n",
            "8                         13  0.0758\n",
            "9                         14  0.0756\n",
            "10                        15  0.0286\n",
            "11                        16  0.0020\n",
            "12                        17  0.0248\n",
            "13                        18  0.0268\n",
            "14                        19  0.0374\n",
            "15                        20  0.0178\n",
            "16                        21  0.0312\n",
            "17                        22  0.0618\n",
            "18                        23  0.0044\n",
            "19                        24  0.0492\n",
            "20                        25  0.0180\n",
            "21                        26  0.0026\n",
            "22                        27  0.0178\n",
            "23                        28  0.0446\n",
            "24                        29  0.0002\n",
            "25                        30  0.0098\n",
            "26                        31  0.0328\n",
            "27                        32  0.0036\n",
            "28                        33  0.0006\n",
            "29                        34  0.0126\n",
            "30                        35  0.0122\n",
            "31                        36  0.0040\n",
            "32                        37  0.0006\n",
            "33                        38  0.0074\n",
            "34                        39  0.0082\n",
            "35                        40  0.0052\n",
            "36                        41  0.0002\n",
            "37                        42  0.0022\n",
            "38                        43  0.0012\n",
            "39                        44  0.0040\n",
            "40                        45  0.0002\n",
            "41                        46  0.0016\n",
            "42                        47  0.0004\n",
            "43                        49  0.0010\n",
            "44                        51  0.0036\n",
            "45                        52  0.0014\n",
            "46                        53  0.0014\n",
            "47                        54  0.0012\n",
            "48                        55  0.0002\n",
            "49                        56  0.0004\n",
            "50                        58  0.0020\n",
            "51                        60  0.0004\n",
            "52                        61  0.0002\n",
            "53                        63  0.0002\n",
            "54                        64  0.0002\n",
            "55                        65  0.0002\n",
            "56                        72  0.0002\n"
          ],
          "name": "stdout"
        },
        {
          "output_type": "display_data",
          "data": {
            "image/png": "[encoded data removed]",
            "text/plain": [
              "<Figure size 432x288 with 1 Axes>"
            ]
          },
          "metadata": {
            "tags": []
          }
        },
        {
          "output_type": "stream",
          "text": [
            "Esperança:  15.033600000000002\n"
          ],
          "name": "stdout"
        }
      ]
    },
    {
      "cell_type": "markdown",
      "metadata": {
        "id": "tJcmf1NDrIGz",
        "colab_type": "text"
      },
      "source": [
        "##Questão 5"
      ]
    },
    {
      "cell_type": "code",
      "metadata": {
        "id": "68yJdMeOrW9K",
        "colab_type": "code",
        "outputId": "9581923d-2e65-4977-9fcb-874ca0cdaed8",
        "colab": {
          "base_uri": "https://localhost:8080/",
          "height": 88
        }
      },
      "source": [
        "import numpy as np\n",
        "\n",
        "class MarkovChain: #Define a cadeia de markov\n",
        "  def __init__(self,nOfStates, P): #Cria a cadeia dado um número de estados (nOfStates) e sua matriz com as probabilidades de transição (P)\n",
        "    self.nOfStates = nOfStates\n",
        "    self.currState = -1\n",
        "    self.P = P\n",
        "    self.visitation = np.array([0,1,0,0])\n",
        "\n",
        "  def wasAbsorbed(self,currState): #Verifica se o estado que estou é um estado de absorção\n",
        "    return True if(self.P[currState][currState] == 1) else False\n",
        "\n",
        "  def start(self,inicialState): #Inicializa a cadeia dado o estado inicial\n",
        "    self.currState = inicialState\n",
        "\n",
        "    while ( not(self.wasAbsorbed(self.currState)) ): #Enquando não estou num estado de absorção, faço um movimento\n",
        "      self.currState = self.move() #Faz um movimento, retornando o estado para onde me movi\n",
        "      self.visitation[self.currState] += 1 \n",
        "      \n",
        "\n",
        "    return self.currState, self.visitation  \n",
        "\n",
        "# Esta função realiza o movimento e sua ideia é comparar o random sorteador (0 até 1) com cada coluna da matriz de transição,\n",
        "# referente a linha do estado atual:\n",
        "# 1) Caso o random seja menor que a probabilidade da primeira saída(coluna), então o número da coluna será o novo estado atual.\n",
        "# 2) Caso contrário deverá ir para a próxima coluna e ver se o random é menor que a soma da probabilidade da coluna anterior com a atual. \n",
        "#    Caso seja a atual coluna será o novo estado e assim sucessivamente. \n",
        "  def move(self): \n",
        "    temp = 0\n",
        "    nextState = -1\n",
        "    random = np.random.random_sample() #Gera um número aleatório de 0 a 1\n",
        "    for i in range(0,4):\n",
        "      temp += self.P[self.currState][i]\n",
        "      if(random < temp and self.P[self.currState][i] != 0):\n",
        "        nextState = i\n",
        "        break\n",
        "    return nextState \n",
        "\n",
        "\n",
        "nOfSimu = 1000\n",
        "nOfStates = 4\n",
        "P = [[1,0,0,0],[0.3,0,0.7,0],[0,0.3,0,0.7],[0,0,0,1]]\n",
        "\n",
        "whereWasAbs = np.zeros(2) #Array com o número de vezes em que a cadeia foi absorvida em 0 e o mesmo para 3\n",
        "nOfVisitsTotal = np.zeros(2) #Array com o número de visitas feitas ao estado 1 e 2 antes da absorção\n",
        "\n",
        "for i in range(0,nOfSimu): #Para cada simulação\n",
        "  chain = MarkovChain(nOfStates,P) #Crio uma cadeia\n",
        "  finalState, visitation = chain.start(1)#Inicio a cadeia no estado 1\n",
        "  if(finalState == 0):\n",
        "    whereWasAbs[0]+=1 #Guardo onde ocorreu a absorção\n",
        "  elif (finalState == 3):\n",
        "    whereWasAbs[1]+=1\n",
        "  nOfVisitsTotal[0] += visitation[1] \n",
        "  nOfVisitsTotal[1] += visitation[2]\n",
        "\n",
        "print(\"Probabilidade da cadeia ser absorvida no estado 0:\",whereWasAbs[0]/nOfSimu)\n",
        "print(\"Probabilidade da cadeia ser absorvida no estado 3:\",whereWasAbs[1]/nOfSimu)\n",
        "print(\"O valor médio de visitas de visitas ao estado 1 antes da absorção é:\", nOfVisitsTotal[0]/nOfSimu)\n",
        "print(\"O valor médio de visitas de visitas ao estado 2 antes da absorção é:\", nOfVisitsTotal[1]/nOfSimu)"
      ],
      "execution_count": 0,
      "outputs": [
        {
          "output_type": "stream",
          "text": [
            "Probabilidade da cadeia ser absorvida no estado 0: 0.39\n",
            "Probabilidade da cadeia ser absorvida no estado 3: 0.61\n",
            "O valor médio de visitas de visitas ao estado 1 antes da absorção é: 1.251\n",
            "O valor médio de visitas de visitas ao estado 2 antes da absorção é: 0.861\n"
          ],
          "name": "stdout"
        }
      ]
    }
  ]
}